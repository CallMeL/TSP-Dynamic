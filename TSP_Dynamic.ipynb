{
  "nbformat": 4,
  "nbformat_minor": 0,
  "metadata": {
    "colab": {
      "provenance": [],
      "authorship_tag": "ABX9TyO7Zg9afLcGLI2Gjz1maXJy",
      "include_colab_link": true
    },
    "kernelspec": {
      "name": "python3",
      "display_name": "Python 3"
    },
    "language_info": {
      "name": "python"
    },
    "accelerator": "GPU"
  },
  "cells": [
    {
      "cell_type": "markdown",
      "metadata": {
        "id": "view-in-github",
        "colab_type": "text"
      },
      "source": [
        "<a href=\"https://colab.research.google.com/github/CallMeL/TSP-Dynamic/blob/master/TSP_Dynamic.ipynb\" target=\"_parent\"><img src=\"https://colab.research.google.com/assets/colab-badge.svg\" alt=\"Open In Colab\"/></a>"
      ]
    },
    {
      "cell_type": "markdown",
      "source": [
        "## lib"
      ],
      "metadata": {
        "id": "PWi4DtpPetcn"
      }
    },
    {
      "cell_type": "code",
      "source": [
        "import numpy as np\n",
        "import math\n",
        "import time"
      ],
      "metadata": {
        "id": "86-V_glQeXIG"
      },
      "execution_count": null,
      "outputs": []
    },
    {
      "cell_type": "markdown",
      "source": [
        "## tool Function & Class"
      ],
      "metadata": {
        "id": "Q2-eeXIhevnU"
      }
    },
    {
      "cell_type": "code",
      "source": [
        "import pandas\n",
        "import numpy as np\n",
        "import math\n",
        "import matplotlib.pyplot as plt "
      ],
      "metadata": {
        "id": "HYQfm15Ae7co"
      },
      "execution_count": null,
      "outputs": []
    },
    {
      "cell_type": "code",
      "source": [
        "class Node:\n",
        "\t\"\"\"\n",
        "\t类名：Node\n",
        "\t函数功能：\t从外界读取城市数据并处理\n",
        "\t\t输入\t无\n",
        "\t\t输出\t1 Position：各个城市的位置矩阵\n",
        "\t\t\t2 CityNum：城市数量\n",
        "\t\t\t3 Dist：城市间距离矩阵\n",
        "\t其他说明：无\n",
        "\t\"\"\"\n",
        "\tdef __init__(self,CityNum):\n",
        "\t\t\"\"\"\n",
        "\t\t函数名：GetData()\n",
        "\t\t函数功能：\t从外界读取城市数据并处理\n",
        "\t\t\t输入\t无\n",
        "\t\t\t输出\t1 Position：各个城市的位置矩阵\n",
        "\t\t\t\t2 CityNum：城市数量\n",
        "\t\t\t\t3 Dist：城市间距离矩阵\n",
        "\t\t其他说明：无\n",
        "\t\t\"\"\"\n",
        "\t\tself.visited=[False]*CityNum    #记录城市是否走过\n",
        "\t\tself.start=0                    #起点城市\n",
        "\t\tself.end=0                      #目标城市\n",
        "\t\tself.current=0                  #当前所处城市\n",
        "\t\tself.num=0                      #走过的城市数量\n",
        "\t\tself.pathsum=0                  #走过的总路程\n",
        "\t\tself.lb=0                       #当前结点的下界\n",
        "\t\tself.listc=[]                   #记录依次走过的城市"
      ],
      "metadata": {
        "id": "Gcz7Wu2zfByR"
      },
      "execution_count": null,
      "outputs": []
    },
    {
      "cell_type": "code",
      "source": [
        "def GetData(datapath):\n",
        "\t\"\"\"\n",
        "\t函数名：GetData()\n",
        "\t函数功能：\t从外界读取城市数据并处理\n",
        "\t\t输入\t无\n",
        "\t\t输出\t1 Position：各个城市的位置矩阵\n",
        "\t\t\t2 CityNum：城市数量\n",
        "\t\t\t3 Dist：城市间距离矩阵\n",
        "\t其他说明：无\n",
        "\t\"\"\"\n",
        "\tdataframe = pandas.read_csv(datapath,sep=\" \",header=None)\n",
        "\tCities = dataframe.iloc[:,1:3]\n",
        "\tPosition= np.array(Cities)\t\t\t\t#从城市A到B的距离矩阵\n",
        "\tCityNum=Position.shape[0]\t\t\t\t#CityNum:代表城市数量\n",
        "\tDist = np.zeros((CityNum,CityNum))\t\t#Dist(i,j)：城市i与城市j间的距离\n",
        "\n",
        "\t#计算距离矩阵\n",
        "\tfor i in range(CityNum):\n",
        "\t\tfor j in range(CityNum):\n",
        "\t\t\tif i==j:\n",
        "\t\t\t\tDist[i,j] = math.inf\n",
        "\t\t\telse:\n",
        "\t\t\t\tDist[i,j] = math.sqrt(np.sum((Position[i,:]-Position[j,:])**2))\n",
        "\treturn Position,CityNum,Dist"
      ],
      "metadata": {
        "id": "wuOiyC3HfDc2"
      },
      "execution_count": null,
      "outputs": []
    },
    {
      "cell_type": "code",
      "source": [
        "def ResultShow(Min_Path,BestPath,CityNum,string):\n",
        "\t\"\"\"\n",
        "\t函数名：GetData()\n",
        "\t函数功能：\t从外界读取城市数据并处理\n",
        "\t\t输入\t无\n",
        "\t\t输出\t1 Position：各个城市的位置矩阵\n",
        "\t\t\t2 CityNum：城市数量\n",
        "\t\t\t3 Dist：城市间距离矩阵\n",
        "\t其他说明：无\n",
        "\t\"\"\"\n",
        "\tprint(\"基于\"+string+\"求得的旅行商最短路径为：\")\n",
        "\tfor m in range(CityNum):\n",
        "\t\tprint(str(BestPath[m])+\"—>\",end=\"\")\n",
        "\tprint(BestPath[CityNum])\n",
        "\tprint(\"总路径长为：\"+str(Min_Path))\n",
        "\tprint()\n",
        "\n",
        "def draw(BestPath,Position,title):\n",
        "\t\"\"\"\n",
        "\t函数名：draw(BestPath,Position,title)\n",
        "\t函数功能：\t通过最优路径将旅行商依次经过的城市在图表上绘制出来\n",
        "\t\t输入\t1 \tBestPath：最优路径\n",
        "\t\t\t2\tPosition：各个城市的位置矩阵\n",
        "\t\t\t3\ttitle:图表的标题\n",
        "\t\t输出\t无\n",
        "\t其他说明：无\n",
        "\t\"\"\"\n",
        "\tplt.title(title) \n",
        "\tplt.plot(Position[:,0],Position[:,1],'bo')\n",
        "\tfor i,city in enumerate(Position): \n",
        "\t\tplt.text(city[0], city[1], str(i)) \n",
        "\tplt.plot(Position[BestPath, 0], Position[BestPath, 1], color='red') \n",
        "\tplt.show()"
      ],
      "metadata": {
        "id": "Blmn_R0xeyBu"
      },
      "execution_count": null,
      "outputs": []
    },
    {
      "cell_type": "markdown",
      "source": [
        "## Algorithm Functions"
      ],
      "metadata": {
        "id": "31EcYHx7fWWU"
      }
    },
    {
      "cell_type": "code",
      "source": [
        "def DP_recursion(city_start,citylists):\n",
        "\t\"\"\"\n",
        "\t\t函数名：DP_recursion(city_start,citylists)\n",
        "\t\t函数功能：  基于递归调用的动态规划算法核心\n",
        "\t\t\t输入\t1: city_start:旅行商起始城市\n",
        "\t\t\t\t2: citylists:旅行商已经遍历过的城市，其中第i位为1代表城市i已经遍历过\n",
        "\t           \t\t 第i位为0则代表城市i没有遍历(位数从0开始，第0位即最低位代表城市0)\n",
        "\t\t\t输出\t1: dp_dist[city_start][citylists]:从城市city_start出发\n",
        "\t           \t\t 遍历citylists内包含的各个城市的所花费的最小距离\n",
        "\t\t其他说明：无\n",
        "\t\"\"\"\n",
        "\t#判断是否已经求出从城市city出发遍历citylists内的城市的最短距离\n",
        "\tif IsSolvedMinDist(city_start,citylists):\n",
        "\t\treturn dp_dist[city_start][citylists]\n",
        "\t\n",
        "\t#判断如果只遍历一个出发点城市，是则返回起始城市到开始城市的距离\n",
        "\tif IsOnlyExistCityN(city_init,citylists):\n",
        "\t\treturn Dist[city_init][city_start]\n",
        "\t\n",
        "\t#求解T(vi,V)=min{Dij+T(vj,V-{Vj})},Vj属于V,公式\n",
        "\tdist_sum=math.inf\n",
        "\tfor city in range(CityNum):\n",
        "\t\tif IsVisited(city,citylists):\n",
        "\t\t\tdist_temp=DP_recursion(city,Delete(city,citylists))+Dist[city_start][city]\n",
        "\t\t\tif dist_temp<dist_sum:\n",
        "\t\t\t\tdist_sum=dist_temp\n",
        "\t\t\t\tdp_path[city_start][citylists]=city\n",
        "\tdp_dist[city_start][citylists]=dist_sum\n",
        "\t\n",
        "\treturn dp_dist[city_start][citylists]\n",
        "\n"
      ],
      "metadata": {
        "id": "N5MgR6o2ecax"
      },
      "execution_count": null,
      "outputs": []
    },
    {
      "cell_type": "code",
      "source": [
        "def DPMethond(CityNum,Dist,city_start):\n",
        "\t\"\"\"\n",
        "\t\t函数名：DPMethond(CityNum,Dist,city_start)\n",
        "\t\t函数功能： 动态规划算法的程序入口\n",
        "\t\t\t输入\t1 CityNum：城市数量\n",
        "\t\t\t\t2 Dist：城市间距离矩阵\n",
        "\t\t\t\t3 city_start:旅行商起始城市\n",
        "\t\t\t输出\t1 Min_Path：最优路径长\n",
        "\t\t\t\t2 BestPath：最优路径\n",
        "\t\t其他说明：无\n",
        "\t\"\"\"\n",
        "\tcitylists = 2**(CityNum)-1          #初始已遍历城市列表为全部遍历\n",
        "\t\n",
        "\tMin_Path=DP_recursion(city_start,citylists)     #调用动态规划算法\n",
        "\t\n",
        "\t#此块代码块是根据dp_path矩阵找到最优路径\n",
        "\tBestPath=[]\n",
        "\tfor i in range(CityNum):\n",
        "\t\tBestPath.append(city_start)\n",
        "\t\tcity_start=int(dp_path[city_start][citylists])\n",
        "\t\tcitylists=citylists&(~(1<<city_start))\n",
        "\tBestPath.append(city_init)\n",
        "\treturn Min_Path,BestPath\n",
        "\n",
        "\n",
        "\n",
        "def IsSolvedMinDist(city_start,citylists):\n",
        "\t\"\"\"\n",
        "\t\t函数名：IsSolvedMinDist(city_start,citylists)\n",
        "\t\t函数功能：判断是否已经求出了从城市city_start出发遍历citylists内的城市的最短距离\n",
        "\t\t\t输入\t1: city_start:旅行商起始城市\n",
        "\t\t\t\t2: citylists:旅行商已经遍历过的城市，其中第i位为1代表城市i已经遍历过\n",
        "\t            第i位为0则代表城市i没有遍历(位数从0开始，第0位即最低位代表城市0)\n",
        "\t\t\t输出\t1: 是——返回True，否——返回False\n",
        "\t\t其他说明：无\n",
        "\t\"\"\"\n",
        "\treturn True if dp_dist[city_start][citylists] != -1 else False\n",
        "\n",
        "\n",
        "def IsOnlyExistCityN(cityn,citylists):\n",
        "\t\"\"\"\n",
        "\t\t函数名：IsOnlyExistCityN(cityn,citylists)\n",
        "\t\t函数功能：判断如果只遍历一个出发点城市，是则返回起始城市到出发点城市的距离\n",
        "\t\t\t输入\t1: city_start:旅行商起始城市\n",
        "\t\t\t\t2: citylists:旅行商已经遍历过的城市，其中第i位为1代表城市i已经遍历过\n",
        "\t            第i位为0则代表城市i没有遍历(位数从0开始，第0位即最低位代表城市0)\n",
        "\t\t\t输出\t1: 是——返回True，否——返回False\n",
        "\t\t其他说明：无\n",
        "\t\"\"\"\n",
        "\treturn True if citylists==2**cityn else False\n",
        "\n",
        "\n",
        "def IsVisited(city,citylists):\n",
        "\t\"\"\"\n",
        "\t\t函数名：IsVisited(city,citylists)\n",
        "\t\t函数功能：判断城市city是否在遍历过的城市列表citylists中\n",
        "\t\t\t输入\t1: city_start:旅行商起始城市\n",
        "\t\t\t\t2: citylists:旅行商已经遍历过的城市，其中第i位为1代表城市i已经遍历过\n",
        "\t            第i位为0则代表城市i没有遍历(位数从0开始，第0位即最低位代表城市0)\n",
        "\t\t\t输出\t1: 是——返回True，否——返回False\n",
        "\t\t其他说明：无\n",
        "\t\"\"\"\n",
        "\treturn True if citylists&(1<<city) else False\n",
        "\n",
        "\n",
        "def Delete(city,citylists):\n",
        "\t\"\"\"\n",
        "\t\t函数名：Delete(city,citylists)\n",
        "\t\t函数功能：从遍历过的城市列表citylists中删去城市city\n",
        "\t\t\t输入\t1: city_start:旅行商起始城市\n",
        "\t\t\t\t2: citylists:旅行商已经遍历过的城市，其中第i位为1代表城市i已经遍历过\n",
        "\t            第i位为0则代表城市i没有遍历(位数从0开始，第0位即最低位代表城市0)\n",
        "\t\t\t输出\t1: 删去城市city后的已遍历过城市列表citylists\n",
        "\t\t其他说明：无\n",
        "\t\"\"\"\n",
        "\treturn citylists&(~(1<<city))\n"
      ],
      "metadata": {
        "id": "yt82d6LvehK8"
      },
      "execution_count": null,
      "outputs": []
    },
    {
      "cell_type": "code",
      "source": [
        "!wget https://github.com/Greatpanc/-TSP-/tree/master/data/TSP25cities.tsp"
      ],
      "metadata": {
        "colab": {
          "base_uri": "https://localhost:8080/"
        },
        "id": "0JejO_Pyfomu",
        "outputId": "4fa2b9f7-a2e2-4abb-99d9-dc53fb929d52"
      },
      "execution_count": null,
      "outputs": [
        {
          "output_type": "stream",
          "name": "stdout",
          "text": [
            "--2022-10-22 02:39:13--  https://github.com/Greatpanc/-TSP-/tree/master/data/TSP25cities.tsp\n",
            "Resolving github.com (github.com)... 140.82.121.4\n",
            "Connecting to github.com (github.com)|140.82.121.4|:443... connected.\n",
            "HTTP request sent, awaiting response... 301 Moved Permanently\n",
            "Location: https://github.com/Greatpanc/-TSP-/blob/master/data/TSP25cities.tsp [following]\n",
            "--2022-10-22 02:39:13--  https://github.com/Greatpanc/-TSP-/blob/master/data/TSP25cities.tsp\n",
            "Reusing existing connection to github.com:443.\n",
            "HTTP request sent, awaiting response... 200 OK\n",
            "Length: unspecified [text/html]\n",
            "Saving to: ‘TSP25cities.tsp.1’\n",
            "\n",
            "TSP25cities.tsp.1       [ <=>                ] 146.85K  --.-KB/s    in 0.02s   \n",
            "\n",
            "2022-10-22 02:39:14 (6.31 MB/s) - ‘TSP25cities.tsp.1’ saved [150373]\n",
            "\n"
          ]
        }
      ]
    },
    {
      "cell_type": "markdown",
      "source": [
        "## main function\n",
        "\n",
        "结果：\n",
        "贪心法求得最短旅行商经过所有城市回到原城市的最短路径为：\n",
        "0->4->6->7->1->3->2->5->8->9->0\n",
        "总路径长为：10127.552143541276\n",
        "\n",
        "程序的运行时间是：0.064915142\n"
      ],
      "metadata": {
        "id": "Df4QWV2zeyxg"
      }
    },
    {
      "cell_type": "code",
      "execution_count": null,
      "metadata": {
        "id": "YJ8IEyyUeQkG"
      },
      "outputs": [],
      "source": [
        "Position,CityNum,Dist = GetData(\"/content/TSP5cities.tsp\")\n",
        "\n",
        "city_init=0                         #起始城市\n",
        "\n",
        "#dp_path[city][citylists]代表citylists内与city相连的城市信息\n",
        "dp_path = np.ones((CityNum,2**CityNum))\n",
        "\n",
        "#dp_dist[city,citylist]代表从城市city出发经过citylists内走过的城市后返回到city_start的最短距离矩阵\n",
        "dp_dist = np.ones((CityNum,2**CityNum))*-1\n",
        "\n",
        "start = time.clock()\t\t\t\t#程序计时开始\n",
        "Min_Path,BestPath=DPMethond(CityNum,Dist,city_init)\t#调用动态规划算法\n",
        "end = time.clock()\t\t\t\t\t#程序计时结束\n",
        "\n",
        "print()\n",
        "ResultShow(Min_Path,BestPath,CityNum,\"动态规划法\")\n",
        "print(\"程序的运行时间是：%s\"%(end-start))\n",
        "draw(BestPath,Position,\"Dynamic Programming Method\")\n",
        "\"\"\"\n",
        "结果：\n",
        "贪心法求得最短旅行商经过所有城市回到原城市的最短路径为：\n",
        "0->4->6->7->1->3->2->5->8->9->0\n",
        "总路径长为：10127.552143541276\n",
        "\n",
        "程序的运行时间是：0.064915142\n",
        "\"\"\""
      ]
    }
  ]
}